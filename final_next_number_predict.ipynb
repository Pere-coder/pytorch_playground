{
 "cells": [
  {
   "cell_type": "code",
   "execution_count": null,
   "id": "1b3d947f-3821-4a5d-9677-2150f869ad78",
   "metadata": {},
   "outputs": [],
   "source": [
    "import torch\n",
    "import torch.nn as nn\n",
    "import matplotlib.pyplot as plt\n",
    "import numpy as np"
   ]
  },
  {
   "cell_type": "code",
   "execution_count": null,
   "id": "2888f3ba-e2c2-4133-bfa3-153bdcefc6ea",
   "metadata": {},
   "outputs": [],
   "source": [
    "data = np.array(range(1, 1001))  # 1 to 1000\n",
    "train_data, test_data = data[:800], data[800:]\n",
    "x_train = torch.unsqueeze(torch.FloatTensor(train_data), 1)\n",
    "y_train = torch.unsqueeze(torch.FloatTensor(train_data), 1)  # Target for training\n",
    "x_test = torch.unsqueeze(torch.FloatTensor(test_data), 1)\n",
    "y_test = torch.unsqueeze(torch.FloatTensor(test_data), 1)    # Target for testing"
   ]
  },
  {
   "cell_type": "code",
   "execution_count": null,
   "id": "3b2fa252-a1e5-4406-96a9-caf02b772db5",
   "metadata": {},
   "outputs": [],
   "source": [
    "class Predict(nn.Module):\n",
    "    def __init__(self):\n",
    "        super().__init__()\n",
    "        self.layer_1 = nn.Linear(1, 50)\n",
    "        self.layer_2 = nn.Linear(50, 25)\n",
    "        self.layer_3 = nn.Linear(25, 1)\n",
    "\n",
    "    def forward(self, x):\n",
    "        prediction = self.layer_3(self.layer_2(self.layer_1(x)))\n",
    "        return prediction\n",
    "model = Predict()"
   ]
  },
  {
   "cell_type": "code",
   "execution_count": null,
   "id": "4abe159d-ebde-4352-9705-40ede7ec5de3",
   "metadata": {},
   "outputs": [],
   "source": [
    "loss_function = nn.MSELoss()\n",
    "optimizer = torch.optim.Adam(model.parameters(), lr=0.01)"
   ]
  },
  {
   "cell_type": "code",
   "execution_count": null,
   "id": "7882142a-9554-46ad-9e95-dfe1d11de287",
   "metadata": {},
   "outputs": [],
   "source": [
    "epochs = 1500\n",
    "for epoch in range(epochs):\n",
    "    y_pred = model(x_train)\n",
    "    loss = loss_function(y_pred, y_train)\n",
    "    optimizer.zero_grad()\n",
    "    loss.backward()\n",
    "    optimizer.step()\n",
    "    if epoch % 10 == 0:\n",
    "        print(f\"Epoch: {epoch}, {loss.item():.4f} \")\n",
    "\n"
   ]
  },
  {
   "cell_type": "code",
   "execution_count": null,
   "id": "835ab18d-e2c8-41fd-a663-7391e8e77857",
   "metadata": {},
   "outputs": [],
   "source": [
    "#testing \n",
    "with torch.no_grad():\n",
    "    y_pred = model(x_test)\n",
    "    loss = loss_function(y_pred, y_test)\n",
    "    print(f\"Test Loss: {loss.item():.4f}\")\n",
    "    "
   ]
  },
  {
   "cell_type": "code",
   "execution_count": null,
   "id": "b81544c2-9aa9-434e-8fbc-5cef2439d5ba",
   "metadata": {},
   "outputs": [],
   "source": [
    "#predict real data\n",
    "import math\n",
    "with torch.no_grad():\n",
    "    next_input = torch.unsqueeze(torch.FloatTensor([100]), 1)\n",
    "    predictions = []\n",
    "    for _ in range(1000):\n",
    "        predicted_value = model(next_input)\n",
    "        predictions.append(f\"{predicted_value.item():.0f}\")\n",
    "        next_input = torch.unsqueeze(predicted_value, 1)\n",
    "\n",
    "unique_predictions = list(dict.fromkeys((reversed(predictions))))\n",
    "print(unique_predictions)"
   ]
  },
  {
   "cell_type": "code",
   "execution_count": null,
   "id": "cce13f04-44b7-452c-a402-1116b2d7eb07",
   "metadata": {},
   "outputs": [],
   "source": []
  },
  {
   "cell_type": "code",
   "execution_count": null,
   "id": "4ded6ff6-3319-4680-9b3f-706e6f68d099",
   "metadata": {},
   "outputs": [],
   "source": []
  }
 ],
 "metadata": {
  "kernelspec": {
   "display_name": "Python 3 (ipykernel)",
   "language": "python",
   "name": "python3"
  },
  "language_info": {
   "codemirror_mode": {
    "name": "ipython",
    "version": 3
   },
   "file_extension": ".py",
   "mimetype": "text/x-python",
   "name": "python",
   "nbconvert_exporter": "python",
   "pygments_lexer": "ipython3",
   "version": "3.12.4"
  }
 },
 "nbformat": 4,
 "nbformat_minor": 5
}
